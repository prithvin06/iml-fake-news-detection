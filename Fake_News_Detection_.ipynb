{
  "cells": [
    {
      "cell_type": "markdown",
      "metadata": {
        "id": "kqB21QOgMg-G"
      },
      "source": [
        "Importing the Dependencies"
      ]
    },
    {
      "cell_type": "code",
      "source": [
        "from google.colab import drive\n",
        "drive.mount('/content/drive')"
      ],
      "metadata": {
        "colab": {
          "base_uri": "https://localhost:8080/"
        },
        "id": "xDzHt_KiDX2m",
        "outputId": "27e91171-3d75-4834-adfe-579e1628b7f4"
      },
      "execution_count": 4,
      "outputs": [
        {
          "output_type": "stream",
          "name": "stdout",
          "text": [
            "Drive already mounted at /content/drive; to attempt to forcibly remount, call drive.mount(\"/content/drive\", force_remount=True).\n"
          ]
        }
      ]
    },
    {
      "cell_type": "code",
      "execution_count": 5,
      "metadata": {
        "id": "rALI06-oHusw"
      },
      "outputs": [],
      "source": [
        "import numpy as np\n",
        "import pandas as pd\n",
        "from sklearn.model_selection import train_test_split\n",
        "from sklearn.feature_extraction.text import TfidfVectorizer\n",
        "from sklearn.linear_model import LogisticRegression\n",
        "from sklearn.metrics import accuracy_score"
      ]
    },
    {
      "cell_type": "markdown",
      "metadata": {
        "id": "YyKe9o2ONeFv"
      },
      "source": [
        "Data Collection & Pre-Processing"
      ]
    },
    {
      "cell_type": "code",
      "execution_count": 12,
      "metadata": {
        "id": "CpStHH8KNcYB"
      },
      "outputs": [],
      "source": [
        "# loading the data from csv file to a pandas Dataframe\n",
        "raw_news_data = pd.read_csv('/content/drive/MyDrive/Datasets/WELFake_Dataset.csv')"
      ]
    },
    {
      "cell_type": "code",
      "execution_count": 13,
      "metadata": {
        "colab": {
          "base_uri": "https://localhost:8080/"
        },
        "id": "pdn-7VE2NxsZ",
        "outputId": "94d035f5-f150-4074-e4ca-d13dcda760d7"
      },
      "outputs": [
        {
          "output_type": "stream",
          "name": "stdout",
          "text": [
            "       Unnamed: 0                                              title  \\\n",
            "0               0  LAW ENFORCEMENT ON HIGH ALERT Following Threat...   \n",
            "1               1                                                NaN   \n",
            "2               2  UNBELIEVABLE! OBAMA’S ATTORNEY GENERAL SAYS MO...   \n",
            "3               3  Bobby Jindal, raised Hindu, uses story of Chri...   \n",
            "4               4  SATAN 2: Russia unvelis an image of its terrif...   \n",
            "...           ...                                                ...   \n",
            "72129       72129  Russians steal research on Trump in hack of U....   \n",
            "72130       72130   WATCH: Giuliani Demands That Democrats Apolog...   \n",
            "72131       72131  Migrants Refuse To Leave Train At Refugee Camp...   \n",
            "72132       72132  Trump tussle gives unpopular Mexican leader mu...   \n",
            "72133       72133  Goldman Sachs Endorses Hillary Clinton For Pre...   \n",
            "\n",
            "                                                    text  label  \n",
            "0      No comment is expected from Barack Obama Membe...      1  \n",
            "1         Did they post their votes for Hillary already?      1  \n",
            "2       Now, most of the demonstrators gathered last ...      1  \n",
            "3      A dozen politically active pastors came here f...      0  \n",
            "4      The RS-28 Sarmat missile, dubbed Satan 2, will...      1  \n",
            "...                                                  ...    ...  \n",
            "72129  WASHINGTON (Reuters) - Hackers believed to be ...      0  \n",
            "72130  You know, because in fantasyland Republicans n...      1  \n",
            "72131  Migrants Refuse To Leave Train At Refugee Camp...      0  \n",
            "72132  MEXICO CITY (Reuters) - Donald Trump’s combati...      0  \n",
            "72133  Goldman Sachs Endorses Hillary Clinton For Pre...      1  \n",
            "\n",
            "[72134 rows x 4 columns]\n"
          ]
        }
      ],
      "source": [
        "print(raw_news_data)"
      ]
    },
    {
      "cell_type": "code",
      "execution_count": 14,
      "metadata": {
        "id": "yhakjIE1N011"
      },
      "outputs": [],
      "source": [
        "# replace the null values with a null string\n",
        "news_data = raw_news_data.where((pd.notnull(raw_news_data)),'')"
      ]
    },
    {
      "cell_type": "code",
      "execution_count": 15,
      "metadata": {
        "colab": {
          "base_uri": "https://localhost:8080/",
          "height": 206
        },
        "id": "SJey6H-SOWeK",
        "outputId": "6bd5c823-3b1a-42a3-efd1-be240a9d7a5e"
      },
      "outputs": [
        {
          "output_type": "execute_result",
          "data": {
            "text/plain": [
              "   Unnamed: 0                                              title  \\\n",
              "0           0  LAW ENFORCEMENT ON HIGH ALERT Following Threat...   \n",
              "1           1                                                      \n",
              "2           2  UNBELIEVABLE! OBAMA’S ATTORNEY GENERAL SAYS MO...   \n",
              "3           3  Bobby Jindal, raised Hindu, uses story of Chri...   \n",
              "4           4  SATAN 2: Russia unvelis an image of its terrif...   \n",
              "\n",
              "                                                text  label  \n",
              "0  No comment is expected from Barack Obama Membe...      1  \n",
              "1     Did they post their votes for Hillary already?      1  \n",
              "2   Now, most of the demonstrators gathered last ...      1  \n",
              "3  A dozen politically active pastors came here f...      0  \n",
              "4  The RS-28 Sarmat missile, dubbed Satan 2, will...      1  "
            ],
            "text/html": [
              "\n",
              "  <div id=\"df-1e1d4c9b-650c-4367-8a1d-9555b8b83ad7\" class=\"colab-df-container\">\n",
              "    <div>\n",
              "<style scoped>\n",
              "    .dataframe tbody tr th:only-of-type {\n",
              "        vertical-align: middle;\n",
              "    }\n",
              "\n",
              "    .dataframe tbody tr th {\n",
              "        vertical-align: top;\n",
              "    }\n",
              "\n",
              "    .dataframe thead th {\n",
              "        text-align: right;\n",
              "    }\n",
              "</style>\n",
              "<table border=\"1\" class=\"dataframe\">\n",
              "  <thead>\n",
              "    <tr style=\"text-align: right;\">\n",
              "      <th></th>\n",
              "      <th>Unnamed: 0</th>\n",
              "      <th>title</th>\n",
              "      <th>text</th>\n",
              "      <th>label</th>\n",
              "    </tr>\n",
              "  </thead>\n",
              "  <tbody>\n",
              "    <tr>\n",
              "      <th>0</th>\n",
              "      <td>0</td>\n",
              "      <td>LAW ENFORCEMENT ON HIGH ALERT Following Threat...</td>\n",
              "      <td>No comment is expected from Barack Obama Membe...</td>\n",
              "      <td>1</td>\n",
              "    </tr>\n",
              "    <tr>\n",
              "      <th>1</th>\n",
              "      <td>1</td>\n",
              "      <td></td>\n",
              "      <td>Did they post their votes for Hillary already?</td>\n",
              "      <td>1</td>\n",
              "    </tr>\n",
              "    <tr>\n",
              "      <th>2</th>\n",
              "      <td>2</td>\n",
              "      <td>UNBELIEVABLE! OBAMA’S ATTORNEY GENERAL SAYS MO...</td>\n",
              "      <td>Now, most of the demonstrators gathered last ...</td>\n",
              "      <td>1</td>\n",
              "    </tr>\n",
              "    <tr>\n",
              "      <th>3</th>\n",
              "      <td>3</td>\n",
              "      <td>Bobby Jindal, raised Hindu, uses story of Chri...</td>\n",
              "      <td>A dozen politically active pastors came here f...</td>\n",
              "      <td>0</td>\n",
              "    </tr>\n",
              "    <tr>\n",
              "      <th>4</th>\n",
              "      <td>4</td>\n",
              "      <td>SATAN 2: Russia unvelis an image of its terrif...</td>\n",
              "      <td>The RS-28 Sarmat missile, dubbed Satan 2, will...</td>\n",
              "      <td>1</td>\n",
              "    </tr>\n",
              "  </tbody>\n",
              "</table>\n",
              "</div>\n",
              "    <div class=\"colab-df-buttons\">\n",
              "\n",
              "  <div class=\"colab-df-container\">\n",
              "    <button class=\"colab-df-convert\" onclick=\"convertToInteractive('df-1e1d4c9b-650c-4367-8a1d-9555b8b83ad7')\"\n",
              "            title=\"Convert this dataframe to an interactive table.\"\n",
              "            style=\"display:none;\">\n",
              "\n",
              "  <svg xmlns=\"http://www.w3.org/2000/svg\" height=\"24px\" viewBox=\"0 -960 960 960\">\n",
              "    <path d=\"M120-120v-720h720v720H120Zm60-500h600v-160H180v160Zm220 220h160v-160H400v160Zm0 220h160v-160H400v160ZM180-400h160v-160H180v160Zm440 0h160v-160H620v160ZM180-180h160v-160H180v160Zm440 0h160v-160H620v160Z\"/>\n",
              "  </svg>\n",
              "    </button>\n",
              "\n",
              "  <style>\n",
              "    .colab-df-container {\n",
              "      display:flex;\n",
              "      gap: 12px;\n",
              "    }\n",
              "\n",
              "    .colab-df-convert {\n",
              "      background-color: #E8F0FE;\n",
              "      border: none;\n",
              "      border-radius: 50%;\n",
              "      cursor: pointer;\n",
              "      display: none;\n",
              "      fill: #1967D2;\n",
              "      height: 32px;\n",
              "      padding: 0 0 0 0;\n",
              "      width: 32px;\n",
              "    }\n",
              "\n",
              "    .colab-df-convert:hover {\n",
              "      background-color: #E2EBFA;\n",
              "      box-shadow: 0px 1px 2px rgba(60, 64, 67, 0.3), 0px 1px 3px 1px rgba(60, 64, 67, 0.15);\n",
              "      fill: #174EA6;\n",
              "    }\n",
              "\n",
              "    .colab-df-buttons div {\n",
              "      margin-bottom: 4px;\n",
              "    }\n",
              "\n",
              "    [theme=dark] .colab-df-convert {\n",
              "      background-color: #3B4455;\n",
              "      fill: #D2E3FC;\n",
              "    }\n",
              "\n",
              "    [theme=dark] .colab-df-convert:hover {\n",
              "      background-color: #434B5C;\n",
              "      box-shadow: 0px 1px 3px 1px rgba(0, 0, 0, 0.15);\n",
              "      filter: drop-shadow(0px 1px 2px rgba(0, 0, 0, 0.3));\n",
              "      fill: #FFFFFF;\n",
              "    }\n",
              "  </style>\n",
              "\n",
              "    <script>\n",
              "      const buttonEl =\n",
              "        document.querySelector('#df-1e1d4c9b-650c-4367-8a1d-9555b8b83ad7 button.colab-df-convert');\n",
              "      buttonEl.style.display =\n",
              "        google.colab.kernel.accessAllowed ? 'block' : 'none';\n",
              "\n",
              "      async function convertToInteractive(key) {\n",
              "        const element = document.querySelector('#df-1e1d4c9b-650c-4367-8a1d-9555b8b83ad7');\n",
              "        const dataTable =\n",
              "          await google.colab.kernel.invokeFunction('convertToInteractive',\n",
              "                                                    [key], {});\n",
              "        if (!dataTable) return;\n",
              "\n",
              "        const docLinkHtml = 'Like what you see? Visit the ' +\n",
              "          '<a target=\"_blank\" href=https://colab.research.google.com/notebooks/data_table.ipynb>data table notebook</a>'\n",
              "          + ' to learn more about interactive tables.';\n",
              "        element.innerHTML = '';\n",
              "        dataTable['output_type'] = 'display_data';\n",
              "        await google.colab.output.renderOutput(dataTable, element);\n",
              "        const docLink = document.createElement('div');\n",
              "        docLink.innerHTML = docLinkHtml;\n",
              "        element.appendChild(docLink);\n",
              "      }\n",
              "    </script>\n",
              "  </div>\n",
              "\n",
              "\n",
              "<div id=\"df-9bc73c41-4bfc-4993-8707-03fb93685c0f\">\n",
              "  <button class=\"colab-df-quickchart\" onclick=\"quickchart('df-9bc73c41-4bfc-4993-8707-03fb93685c0f')\"\n",
              "            title=\"Suggest charts\"\n",
              "            style=\"display:none;\">\n",
              "\n",
              "<svg xmlns=\"http://www.w3.org/2000/svg\" height=\"24px\"viewBox=\"0 0 24 24\"\n",
              "     width=\"24px\">\n",
              "    <g>\n",
              "        <path d=\"M19 3H5c-1.1 0-2 .9-2 2v14c0 1.1.9 2 2 2h14c1.1 0 2-.9 2-2V5c0-1.1-.9-2-2-2zM9 17H7v-7h2v7zm4 0h-2V7h2v10zm4 0h-2v-4h2v4z\"/>\n",
              "    </g>\n",
              "</svg>\n",
              "  </button>\n",
              "\n",
              "<style>\n",
              "  .colab-df-quickchart {\n",
              "      --bg-color: #E8F0FE;\n",
              "      --fill-color: #1967D2;\n",
              "      --hover-bg-color: #E2EBFA;\n",
              "      --hover-fill-color: #174EA6;\n",
              "      --disabled-fill-color: #AAA;\n",
              "      --disabled-bg-color: #DDD;\n",
              "  }\n",
              "\n",
              "  [theme=dark] .colab-df-quickchart {\n",
              "      --bg-color: #3B4455;\n",
              "      --fill-color: #D2E3FC;\n",
              "      --hover-bg-color: #434B5C;\n",
              "      --hover-fill-color: #FFFFFF;\n",
              "      --disabled-bg-color: #3B4455;\n",
              "      --disabled-fill-color: #666;\n",
              "  }\n",
              "\n",
              "  .colab-df-quickchart {\n",
              "    background-color: var(--bg-color);\n",
              "    border: none;\n",
              "    border-radius: 50%;\n",
              "    cursor: pointer;\n",
              "    display: none;\n",
              "    fill: var(--fill-color);\n",
              "    height: 32px;\n",
              "    padding: 0;\n",
              "    width: 32px;\n",
              "  }\n",
              "\n",
              "  .colab-df-quickchart:hover {\n",
              "    background-color: var(--hover-bg-color);\n",
              "    box-shadow: 0 1px 2px rgba(60, 64, 67, 0.3), 0 1px 3px 1px rgba(60, 64, 67, 0.15);\n",
              "    fill: var(--button-hover-fill-color);\n",
              "  }\n",
              "\n",
              "  .colab-df-quickchart-complete:disabled,\n",
              "  .colab-df-quickchart-complete:disabled:hover {\n",
              "    background-color: var(--disabled-bg-color);\n",
              "    fill: var(--disabled-fill-color);\n",
              "    box-shadow: none;\n",
              "  }\n",
              "\n",
              "  .colab-df-spinner {\n",
              "    border: 2px solid var(--fill-color);\n",
              "    border-color: transparent;\n",
              "    border-bottom-color: var(--fill-color);\n",
              "    animation:\n",
              "      spin 1s steps(1) infinite;\n",
              "  }\n",
              "\n",
              "  @keyframes spin {\n",
              "    0% {\n",
              "      border-color: transparent;\n",
              "      border-bottom-color: var(--fill-color);\n",
              "      border-left-color: var(--fill-color);\n",
              "    }\n",
              "    20% {\n",
              "      border-color: transparent;\n",
              "      border-left-color: var(--fill-color);\n",
              "      border-top-color: var(--fill-color);\n",
              "    }\n",
              "    30% {\n",
              "      border-color: transparent;\n",
              "      border-left-color: var(--fill-color);\n",
              "      border-top-color: var(--fill-color);\n",
              "      border-right-color: var(--fill-color);\n",
              "    }\n",
              "    40% {\n",
              "      border-color: transparent;\n",
              "      border-right-color: var(--fill-color);\n",
              "      border-top-color: var(--fill-color);\n",
              "    }\n",
              "    60% {\n",
              "      border-color: transparent;\n",
              "      border-right-color: var(--fill-color);\n",
              "    }\n",
              "    80% {\n",
              "      border-color: transparent;\n",
              "      border-right-color: var(--fill-color);\n",
              "      border-bottom-color: var(--fill-color);\n",
              "    }\n",
              "    90% {\n",
              "      border-color: transparent;\n",
              "      border-bottom-color: var(--fill-color);\n",
              "    }\n",
              "  }\n",
              "</style>\n",
              "\n",
              "  <script>\n",
              "    async function quickchart(key) {\n",
              "      const quickchartButtonEl =\n",
              "        document.querySelector('#' + key + ' button');\n",
              "      quickchartButtonEl.disabled = true;  // To prevent multiple clicks.\n",
              "      quickchartButtonEl.classList.add('colab-df-spinner');\n",
              "      try {\n",
              "        const charts = await google.colab.kernel.invokeFunction(\n",
              "            'suggestCharts', [key], {});\n",
              "      } catch (error) {\n",
              "        console.error('Error during call to suggestCharts:', error);\n",
              "      }\n",
              "      quickchartButtonEl.classList.remove('colab-df-spinner');\n",
              "      quickchartButtonEl.classList.add('colab-df-quickchart-complete');\n",
              "    }\n",
              "    (() => {\n",
              "      let quickchartButtonEl =\n",
              "        document.querySelector('#df-9bc73c41-4bfc-4993-8707-03fb93685c0f button');\n",
              "      quickchartButtonEl.style.display =\n",
              "        google.colab.kernel.accessAllowed ? 'block' : 'none';\n",
              "    })();\n",
              "  </script>\n",
              "</div>\n",
              "    </div>\n",
              "  </div>\n"
            ],
            "application/vnd.google.colaboratory.intrinsic+json": {
              "type": "dataframe",
              "variable_name": "news_data",
              "summary": "{\n  \"name\": \"news_data\",\n  \"rows\": 72134,\n  \"fields\": [\n    {\n      \"column\": \"Unnamed: 0\",\n      \"properties\": {\n        \"dtype\": \"number\",\n        \"std\": 20823,\n        \"min\": 0,\n        \"max\": 72133,\n        \"num_unique_values\": 72134,\n        \"samples\": [\n          61370,\n          2189,\n          60609\n        ],\n        \"semantic_type\": \"\",\n        \"description\": \"\"\n      }\n    },\n    {\n      \"column\": \"title\",\n      \"properties\": {\n        \"dtype\": \"string\",\n        \"num_unique_values\": 62348,\n        \"samples\": [\n          \"Reporters barred from Kushner Companies' event in China\",\n          \"Bomb blast kills nine people in Pakistan, near Afghan border\",\n          \"War criminal or role model? It's a thin line in Serbia\"\n        ],\n        \"semantic_type\": \"\",\n        \"description\": \"\"\n      }\n    },\n    {\n      \"column\": \"text\",\n      \"properties\": {\n        \"dtype\": \"string\",\n        \"num_unique_values\": 62719,\n        \"samples\": [\n          \"BERLIN (Reuters) - French President Emmanuel Macron s proposed European reforms will play a big role in talks between German Chancellor Angela Merkel s conservatives to form a government with the center-left Social Democrats (SPD), a top SPD member said. German Foreign Minister Sigmar Gabriel, who led the party until stepping aside earlier this year to make way for former European Parliament president Martin Schulz, said he supported Macron s call for a separate budget for the eurozone.  We should be ready to invest more in our future,  Gabriel told Germany s Funke newspaper group and the French newspaper Ouest-France in an interview published Saturday. Germany is the biggest winner of the EU and can afford to contribute more.   Gabriel said Macron s proposals to reform the European Union would be  very important  in the coalition talks, which are due to begin on Jan. 7 after Merkel failed to reach agreement with two smaller parties. He said he was enthusiastic about Macron s core idea of strengthening the EU and making it a global player. The SPD had initially hoped to go into opposition after suffering its worst election losses in the post-war era, but was persuaded to enter into negotiations with conservatives to avoid new elections. Merkel earlier this month gave her strongest endorsement of Macron s proposals, but Germany has been hamstrung in taking more decisive action on any concrete proposals until it has a new government in place. Merkel said she saw promising areas of common ground with Social Democrats on the future of Europe, and urged speedy action to work on EU reforms before the next European elections in 2019. This week she said she wants an initial coalition deal with the SPD by mid-January. Macron hopes to make progress with Germany on ideas to reform the eurozone by March, once Germany has a new coalition government in place, with the goal of agreeing a  roadmap  with all eurozone leaders by June. Gabriel also called for the EU to adopt programs that would encourage communities in poorer member states to accept more migrants by offering financial assistance.     \",\n          \"0 comments \\nA bit of good news to kick off your weekend\\u2026 \\nIn an interview on the \\u2018Sway in the Morning\\u2019 radio show on Friday, President Obama stated unequivocally that his wife will \\u201cnever run\\u201d for political office. \\n\\u201cShe will never run for office,\\u201d said Obama of the 52-year-old First Lady. \\u201cShe is as talented and brilliant a person as there is, and I could not be prouder of her, but Michelle does not have the patience or the inclination to actually be a candidate herself. That\\u2019s one thing y\\u2019all can take to the bank.\\u201d \\nMichelle Obama has become Hillary Clinton\\u2019s most effective surrogate on the campaign trail this election season, delivering powerful speeches on behalf of the Democratic nominee whom she hopes will become her husband\\u2019s successor. \\nThe First Lady\\u2019s success on the campaign trail for Hillary Clinton has only led her supporters to push for her to launch her own political career, though she has long denied that she has any desire to run for political office. \\nIndeed, it seems Michelle Obama is much more content living the high life, jet-setting around the world on expensive vacations, using only the most luxurious of accommodations, and paying for none of it herself. That\\u2019s for the lowly taxpayers like you and me to do\\u2026 \\nWhy hold a job or work to curry favor with the American people when your lavish lifestyle has been handed to you on a silver platter? Considering this, it\\u2019s really no surprise Michelle Obama does not wish to run for office after her husband\\u2019s term is over, and for that, we are grateful. \\nSHARE this report if you are glad to hear that Michelle Obama will not seek political office after she vacates the White House in the coming months\\u2026 Haven\\u2019t we had enough of her?!\",\n          \"In case you missed this Rudy Giuliani delivered a fantastic speech at the RNC in Cleveland! It s good old fashioned barnburner of a speech: \"\n        ],\n        \"semantic_type\": \"\",\n        \"description\": \"\"\n      }\n    },\n    {\n      \"column\": \"label\",\n      \"properties\": {\n        \"dtype\": \"number\",\n        \"std\": 0,\n        \"min\": 0,\n        \"max\": 1,\n        \"num_unique_values\": 2,\n        \"samples\": [\n          0,\n          1\n        ],\n        \"semantic_type\": \"\",\n        \"description\": \"\"\n      }\n    }\n  ]\n}"
            }
          },
          "metadata": {},
          "execution_count": 15
        }
      ],
      "source": [
        "# printing the first 5 rows of the dataframe\n",
        "news_data.head()"
      ]
    },
    {
      "cell_type": "code",
      "execution_count": 16,
      "metadata": {
        "colab": {
          "base_uri": "https://localhost:8080/"
        },
        "id": "IbK82N2gOdar",
        "outputId": "68fc0829-e0b5-45af-e0ed-05b55b40979a"
      },
      "outputs": [
        {
          "output_type": "execute_result",
          "data": {
            "text/plain": [
              "(72134, 4)"
            ]
          },
          "metadata": {},
          "execution_count": 16
        }
      ],
      "source": [
        "# checking the number of rows and columns in the dataframe\n",
        "news_data.shape"
      ]
    },
    {
      "cell_type": "markdown",
      "metadata": {
        "id": "vhR4U3ATPBdk"
      },
      "source": [
        "Label Encoding"
      ]
    },
    {
      "cell_type": "code",
      "execution_count": 18,
      "metadata": {
        "id": "9EW7QSgeOt4p"
      },
      "outputs": [],
      "source": [
        "# label fake as 0;  real as 1;\n",
        "\n",
        "news_data.loc[news_data['label'] == 'fake', 'label',] = 0\n",
        "news_data.loc[news_data['label'] == 'real', 'label',] = 1"
      ]
    },
    {
      "cell_type": "markdown",
      "metadata": {
        "id": "uxZK1fWwPwII"
      },
      "source": [
        "fake  -  0\n",
        "\n",
        "real  -  1"
      ]
    },
    {
      "cell_type": "code",
      "execution_count": 20,
      "metadata": {
        "id": "t8Rt-FaNPtPE"
      },
      "outputs": [],
      "source": [
        "# separating the data as texts and label\n",
        "\n",
        "X = news_data['text']\n",
        "\n",
        "Y = news_data['label']"
      ]
    },
    {
      "cell_type": "code",
      "execution_count": 21,
      "metadata": {
        "colab": {
          "base_uri": "https://localhost:8080/"
        },
        "id": "QnQeUBGtQPP7",
        "outputId": "a06e437e-c1fc-4014-e511-ae66f6d27811"
      },
      "outputs": [
        {
          "output_type": "stream",
          "name": "stdout",
          "text": [
            "0        No comment is expected from Barack Obama Membe...\n",
            "1           Did they post their votes for Hillary already?\n",
            "2         Now, most of the demonstrators gathered last ...\n",
            "3        A dozen politically active pastors came here f...\n",
            "4        The RS-28 Sarmat missile, dubbed Satan 2, will...\n",
            "                               ...                        \n",
            "72129    WASHINGTON (Reuters) - Hackers believed to be ...\n",
            "72130    You know, because in fantasyland Republicans n...\n",
            "72131    Migrants Refuse To Leave Train At Refugee Camp...\n",
            "72132    MEXICO CITY (Reuters) - Donald Trump’s combati...\n",
            "72133    Goldman Sachs Endorses Hillary Clinton For Pre...\n",
            "Name: text, Length: 72134, dtype: object\n"
          ]
        }
      ],
      "source": [
        "print(X)"
      ]
    },
    {
      "cell_type": "code",
      "execution_count": 22,
      "metadata": {
        "colab": {
          "base_uri": "https://localhost:8080/"
        },
        "id": "cuWDNy5KQQjY",
        "outputId": "ccf7949f-971d-4e96-f917-cd4a756fe898"
      },
      "outputs": [
        {
          "output_type": "stream",
          "name": "stdout",
          "text": [
            "0        1\n",
            "1        1\n",
            "2        1\n",
            "3        0\n",
            "4        1\n",
            "        ..\n",
            "72129    0\n",
            "72130    1\n",
            "72131    0\n",
            "72132    0\n",
            "72133    1\n",
            "Name: label, Length: 72134, dtype: int64\n"
          ]
        }
      ],
      "source": [
        "print(Y)"
      ]
    },
    {
      "cell_type": "markdown",
      "metadata": {
        "id": "jvHyqdH8QZPH"
      },
      "source": [
        "Splitting the data into training data & test data"
      ]
    },
    {
      "cell_type": "code",
      "execution_count": 23,
      "metadata": {
        "id": "RO2GmbSNQSQH"
      },
      "outputs": [],
      "source": [
        "X_train, X_test, Y_train, Y_test = train_test_split(X, Y, test_size=0.2, random_state=3)"
      ]
    },
    {
      "cell_type": "code",
      "execution_count": 24,
      "metadata": {
        "colab": {
          "base_uri": "https://localhost:8080/"
        },
        "id": "tS2c7A4NRa46",
        "outputId": "0a2b565e-a4f2-4838-955d-0c250ccf288d"
      },
      "outputs": [
        {
          "output_type": "stream",
          "name": "stdout",
          "text": [
            "(72134,)\n",
            "(57707,)\n",
            "(14427,)\n"
          ]
        }
      ],
      "source": [
        "print(X.shape)\n",
        "print(X_train.shape)\n",
        "print(X_test.shape)"
      ]
    },
    {
      "cell_type": "markdown",
      "metadata": {
        "id": "wYQpiACGSBYM"
      },
      "source": [
        "Feature Extraction"
      ]
    },
    {
      "cell_type": "code",
      "execution_count": 25,
      "metadata": {
        "id": "nLs847nSRibm"
      },
      "outputs": [],
      "source": [
        "# transform the text data to feature vectors that can be used as input to the Logistic regression\n",
        "\n",
        "feature_extraction = TfidfVectorizer(min_df = 1, stop_words='english', lowercase=True)\n",
        "\n",
        "X_train_features = feature_extraction.fit_transform(X_train)\n",
        "X_test_features = feature_extraction.transform(X_test)\n",
        "\n",
        "# convert Y_train and Y_test values as integers\n",
        "\n",
        "Y_train = Y_train.astype('int')\n",
        "Y_test = Y_test.astype('int')"
      ]
    },
    {
      "cell_type": "code",
      "execution_count": 26,
      "metadata": {
        "id": "dBMAcw9RUkUY",
        "colab": {
          "base_uri": "https://localhost:8080/"
        },
        "outputId": "45c8ca66-6b8d-4a20-a5b3-a491b98ff2bd"
      },
      "outputs": [
        {
          "output_type": "stream",
          "name": "stdout",
          "text": [
            "3100     President Trump gave the commencement speech f...\n",
            "63673    What a hero what a guy what a crazy world we l...\n",
            "12248    VATICAN CITY (Reuters) - Pope Francis and Orth...\n",
            "5597     This post has been updated.\\n\\nVeteran counter...\n",
            "46323    Ivanka Trump has been sort of the female face ...\n",
            "                               ...                        \n",
            "25365    usapoliticsnow admin 2016 Election , US News ,...\n",
            "48056    PRICELESS! MILO DESTROYS Heckling Muslim Woman...\n",
            "59011    We called it the Yonsei Beach Club. It convene...\n",
            "67224    ROME (Reuters) - The leader of one of Italy s ...\n",
            "71530    Scott \\nIt’s really amazing to see how little ...\n",
            "Name: text, Length: 57707, dtype: object\n"
          ]
        }
      ],
      "source": [
        "print(X_train)"
      ]
    },
    {
      "cell_type": "code",
      "execution_count": 27,
      "metadata": {
        "id": "1NFuGogZUpt0",
        "colab": {
          "base_uri": "https://localhost:8080/"
        },
        "outputId": "0b4cc4b6-b679-41b4-b46d-91e6d317ca57"
      },
      "outputs": [
        {
          "output_type": "stream",
          "name": "stdout",
          "text": [
            "  (0, 162443)\t0.2213765709411378\n",
            "  (0, 188270)\t0.06487852383194201\n",
            "  (0, 40633)\t0.06280772929810552\n",
            "  (0, 194085)\t0.08878384405874246\n",
            "  (0, 192214)\t0.10050074533411787\n",
            "  (0, 83758)\t0.07849723964776593\n",
            "  (0, 119694)\t0.14442462111441834\n",
            "  (0, 75692)\t0.06280772929810552\n",
            "  (0, 191315)\t0.06482214980172656\n",
            "  (0, 112405)\t0.06981556520052275\n",
            "  (0, 68122)\t0.11641205407755849\n",
            "  (0, 74992)\t0.06266093516282044\n",
            "  (0, 152748)\t0.027983259411390335\n",
            "  (0, 88862)\t0.08185558194567329\n",
            "  (0, 163975)\t0.07192291950203211\n",
            "  (0, 188185)\t0.04859506629876849\n",
            "  (0, 157345)\t0.16841738255953353\n",
            "  (0, 58180)\t0.1489370514021357\n",
            "  (0, 51587)\t0.06313329637023725\n",
            "  (0, 174047)\t0.06339113303248887\n",
            "  (0, 86442)\t0.06479402116725498\n",
            "  (0, 53869)\t0.12815799616487347\n",
            "  (0, 181196)\t0.07744780123567781\n",
            "  (0, 132684)\t0.03583554103553187\n",
            "  (0, 11158)\t0.0602347440453464\n",
            "  :\t:\n",
            "  (57706, 48412)\t0.1098366026403824\n",
            "  (57706, 112914)\t0.031346441308971795\n",
            "  (57706, 168914)\t0.04451379020313469\n",
            "  (57706, 114202)\t0.06269288261794359\n",
            "  (57706, 104005)\t0.0411698955386637\n",
            "  (57706, 140917)\t0.048784747828366684\n",
            "  (57706, 104726)\t0.02879301932212767\n",
            "  (57706, 103904)\t0.02630088456427244\n",
            "  (57706, 39577)\t0.04156416453513298\n",
            "  (57706, 174889)\t0.01710336347089459\n",
            "  (57706, 86136)\t0.0317242953695942\n",
            "  (57706, 133234)\t0.0316288064903165\n",
            "  (57706, 126646)\t0.04276556465591521\n",
            "  (57706, 193391)\t0.01811179120458326\n",
            "  (57706, 74992)\t0.026494924860121026\n",
            "  (57706, 188185)\t0.020547453159020457\n",
            "  (57706, 157345)\t0.07121192628961476\n",
            "  (57706, 174047)\t0.02680367444452501\n",
            "  (57706, 86442)\t0.0821905730141472\n",
            "  (57706, 132684)\t0.015152342756951992\n",
            "  (57706, 94213)\t0.03368063795942043\n",
            "  (57706, 179087)\t0.030829653541867286\n",
            "  (57706, 44176)\t0.027721150302417803\n",
            "  (57706, 178171)\t0.10864488168438911\n",
            "  (57706, 138349)\t0.029715483516258034\n"
          ]
        }
      ],
      "source": [
        "print(X_train_features)"
      ]
    },
    {
      "cell_type": "markdown",
      "metadata": {
        "id": "q86FvELbU_SV"
      },
      "source": [
        "Training the Model"
      ]
    },
    {
      "cell_type": "markdown",
      "metadata": {
        "id": "hV6BAIZQVBbo"
      },
      "source": [
        "Logistic Regression"
      ]
    },
    {
      "cell_type": "code",
      "execution_count": 28,
      "metadata": {
        "id": "1JeAOwzpUv0V"
      },
      "outputs": [],
      "source": [
        "model = LogisticRegression()"
      ]
    },
    {
      "cell_type": "code",
      "execution_count": 29,
      "metadata": {
        "colab": {
          "base_uri": "https://localhost:8080/",
          "height": 74
        },
        "id": "gWGRHWAPVI_z",
        "outputId": "86d33612-9f6f-4683-f666-29d972e59bf3"
      },
      "outputs": [
        {
          "output_type": "execute_result",
          "data": {
            "text/plain": [
              "LogisticRegression()"
            ],
            "text/html": [
              "<style>#sk-container-id-1 {color: black;background-color: white;}#sk-container-id-1 pre{padding: 0;}#sk-container-id-1 div.sk-toggleable {background-color: white;}#sk-container-id-1 label.sk-toggleable__label {cursor: pointer;display: block;width: 100%;margin-bottom: 0;padding: 0.3em;box-sizing: border-box;text-align: center;}#sk-container-id-1 label.sk-toggleable__label-arrow:before {content: \"▸\";float: left;margin-right: 0.25em;color: #696969;}#sk-container-id-1 label.sk-toggleable__label-arrow:hover:before {color: black;}#sk-container-id-1 div.sk-estimator:hover label.sk-toggleable__label-arrow:before {color: black;}#sk-container-id-1 div.sk-toggleable__content {max-height: 0;max-width: 0;overflow: hidden;text-align: left;background-color: #f0f8ff;}#sk-container-id-1 div.sk-toggleable__content pre {margin: 0.2em;color: black;border-radius: 0.25em;background-color: #f0f8ff;}#sk-container-id-1 input.sk-toggleable__control:checked~div.sk-toggleable__content {max-height: 200px;max-width: 100%;overflow: auto;}#sk-container-id-1 input.sk-toggleable__control:checked~label.sk-toggleable__label-arrow:before {content: \"▾\";}#sk-container-id-1 div.sk-estimator input.sk-toggleable__control:checked~label.sk-toggleable__label {background-color: #d4ebff;}#sk-container-id-1 div.sk-label input.sk-toggleable__control:checked~label.sk-toggleable__label {background-color: #d4ebff;}#sk-container-id-1 input.sk-hidden--visually {border: 0;clip: rect(1px 1px 1px 1px);clip: rect(1px, 1px, 1px, 1px);height: 1px;margin: -1px;overflow: hidden;padding: 0;position: absolute;width: 1px;}#sk-container-id-1 div.sk-estimator {font-family: monospace;background-color: #f0f8ff;border: 1px dotted black;border-radius: 0.25em;box-sizing: border-box;margin-bottom: 0.5em;}#sk-container-id-1 div.sk-estimator:hover {background-color: #d4ebff;}#sk-container-id-1 div.sk-parallel-item::after {content: \"\";width: 100%;border-bottom: 1px solid gray;flex-grow: 1;}#sk-container-id-1 div.sk-label:hover label.sk-toggleable__label {background-color: #d4ebff;}#sk-container-id-1 div.sk-serial::before {content: \"\";position: absolute;border-left: 1px solid gray;box-sizing: border-box;top: 0;bottom: 0;left: 50%;z-index: 0;}#sk-container-id-1 div.sk-serial {display: flex;flex-direction: column;align-items: center;background-color: white;padding-right: 0.2em;padding-left: 0.2em;position: relative;}#sk-container-id-1 div.sk-item {position: relative;z-index: 1;}#sk-container-id-1 div.sk-parallel {display: flex;align-items: stretch;justify-content: center;background-color: white;position: relative;}#sk-container-id-1 div.sk-item::before, #sk-container-id-1 div.sk-parallel-item::before {content: \"\";position: absolute;border-left: 1px solid gray;box-sizing: border-box;top: 0;bottom: 0;left: 50%;z-index: -1;}#sk-container-id-1 div.sk-parallel-item {display: flex;flex-direction: column;z-index: 1;position: relative;background-color: white;}#sk-container-id-1 div.sk-parallel-item:first-child::after {align-self: flex-end;width: 50%;}#sk-container-id-1 div.sk-parallel-item:last-child::after {align-self: flex-start;width: 50%;}#sk-container-id-1 div.sk-parallel-item:only-child::after {width: 0;}#sk-container-id-1 div.sk-dashed-wrapped {border: 1px dashed gray;margin: 0 0.4em 0.5em 0.4em;box-sizing: border-box;padding-bottom: 0.4em;background-color: white;}#sk-container-id-1 div.sk-label label {font-family: monospace;font-weight: bold;display: inline-block;line-height: 1.2em;}#sk-container-id-1 div.sk-label-container {text-align: center;}#sk-container-id-1 div.sk-container {/* jupyter's `normalize.less` sets `[hidden] { display: none; }` but bootstrap.min.css set `[hidden] { display: none !important; }` so we also need the `!important` here to be able to override the default hidden behavior on the sphinx rendered scikit-learn.org. See: https://github.com/scikit-learn/scikit-learn/issues/21755 */display: inline-block !important;position: relative;}#sk-container-id-1 div.sk-text-repr-fallback {display: none;}</style><div id=\"sk-container-id-1\" class=\"sk-top-container\"><div class=\"sk-text-repr-fallback\"><pre>LogisticRegression()</pre><b>In a Jupyter environment, please rerun this cell to show the HTML representation or trust the notebook. <br />On GitHub, the HTML representation is unable to render, please try loading this page with nbviewer.org.</b></div><div class=\"sk-container\" hidden><div class=\"sk-item\"><div class=\"sk-estimator sk-toggleable\"><input class=\"sk-toggleable__control sk-hidden--visually\" id=\"sk-estimator-id-1\" type=\"checkbox\" checked><label for=\"sk-estimator-id-1\" class=\"sk-toggleable__label sk-toggleable__label-arrow\">LogisticRegression</label><div class=\"sk-toggleable__content\"><pre>LogisticRegression()</pre></div></div></div></div></div>"
            ]
          },
          "metadata": {},
          "execution_count": 29
        }
      ],
      "source": [
        "# training the Logistic Regression model with the training data\n",
        "model.fit(X_train_features, Y_train)"
      ]
    },
    {
      "cell_type": "markdown",
      "metadata": {
        "id": "wZ01fa8dVeL5"
      },
      "source": [
        "Evaluating the trained model"
      ]
    },
    {
      "cell_type": "code",
      "execution_count": 30,
      "metadata": {
        "id": "ExiF2kKxVYtC"
      },
      "outputs": [],
      "source": [
        "# prediction on training data\n",
        "\n",
        "prediction_on_training_data = model.predict(X_train_features)\n",
        "accuracy_on_training_data = accuracy_score(Y_train, prediction_on_training_data)"
      ]
    },
    {
      "cell_type": "code",
      "execution_count": 31,
      "metadata": {
        "colab": {
          "base_uri": "https://localhost:8080/"
        },
        "id": "o7t4DI5UWCkB",
        "outputId": "f8df79d6-6e8c-490e-85e5-f3283fde2ba5"
      },
      "outputs": [
        {
          "output_type": "stream",
          "name": "stdout",
          "text": [
            "Accuracy on training data :  0.9586185384788674\n"
          ]
        }
      ],
      "source": [
        "print('Accuracy on training data : ', accuracy_on_training_data)"
      ]
    },
    {
      "cell_type": "code",
      "execution_count": 32,
      "metadata": {
        "id": "cTin5rXTWKg3"
      },
      "outputs": [],
      "source": [
        "# prediction on test data\n",
        "\n",
        "prediction_on_test_data = model.predict(X_test_features)\n",
        "accuracy_on_test_data = accuracy_score(Y_test, prediction_on_test_data)"
      ]
    },
    {
      "cell_type": "code",
      "execution_count": 33,
      "metadata": {
        "colab": {
          "base_uri": "https://localhost:8080/"
        },
        "id": "4gvoMK4OWnJY",
        "outputId": "11ab5f5e-0599-4e26-86c1-4585d1766991"
      },
      "outputs": [
        {
          "output_type": "stream",
          "name": "stdout",
          "text": [
            "Accuracy on test data :  0.9442018437651626\n"
          ]
        }
      ],
      "source": [
        "print('Accuracy on test data : ', accuracy_on_test_data)"
      ]
    },
    {
      "cell_type": "markdown",
      "metadata": {
        "id": "bXdOKxYAXaHC"
      },
      "source": [
        "Building a Predictive System"
      ]
    },
    {
      "cell_type": "code",
      "execution_count": 34,
      "metadata": {
        "colab": {
          "base_uri": "https://localhost:8080/"
        },
        "id": "h60z1__mWql6",
        "outputId": "c03cca2f-576a-41d0-d229-fa51bc5a1eaa"
      },
      "outputs": [
        {
          "output_type": "stream",
          "name": "stdout",
          "text": [
            "[1]\n",
            "real news\n"
          ]
        }
      ],
      "source": [
        "input_news = [\" \"]\n",
        "# convert text to feature vectors\n",
        "input_data_features = feature_extraction.transform(input_news)\n",
        "\n",
        "# making prediction\n",
        "\n",
        "prediction = model.predict(input_data_features)\n",
        "print(prediction)\n",
        "\n",
        "\n",
        "if (prediction[0]==1):\n",
        "  print('real news')\n",
        "\n",
        "else:\n",
        "  print('fake news')"
      ]
    },
    {
      "cell_type": "code",
      "execution_count": 35,
      "metadata": {
        "id": "v_LqbM_ZYwS1",
        "colab": {
          "base_uri": "https://localhost:8080/"
        },
        "outputId": "348133fb-0f0f-45d3-c7be-2741b2bdea3f"
      },
      "outputs": [
        {
          "output_type": "stream",
          "name": "stdout",
          "text": [
            "Confusion Matrix on Training Data:\n",
            " [[26567  1454]\n",
            " [  934 28752]]\n",
            "\n",
            "Classification Report on Training Data:\n",
            "               precision    recall  f1-score   support\n",
            "\n",
            "           0       0.97      0.95      0.96     28021\n",
            "           1       0.95      0.97      0.96     29686\n",
            "\n",
            "    accuracy                           0.96     57707\n",
            "   macro avg       0.96      0.96      0.96     57707\n",
            "weighted avg       0.96      0.96      0.96     57707\n",
            "\n",
            "\n",
            "Accuracy on Training Data: 0.9586185384788674\n",
            "\n",
            "Confusion Matrix on Test Data:\n",
            " [[6542  465]\n",
            " [ 340 7080]]\n",
            "\n",
            "Classification Report on Test Data:\n",
            "               precision    recall  f1-score   support\n",
            "\n",
            "           0       0.95      0.93      0.94      7007\n",
            "           1       0.94      0.95      0.95      7420\n",
            "\n",
            "    accuracy                           0.94     14427\n",
            "   macro avg       0.94      0.94      0.94     14427\n",
            "weighted avg       0.94      0.94      0.94     14427\n",
            "\n",
            "\n",
            "Accuracy on Test Data: 0.9442018437651626\n"
          ]
        }
      ],
      "source": [
        "from sklearn.metrics import classification_report, confusion_matrix, accuracy_score\n",
        "\n",
        "# Confusion matrix on training data\n",
        "cm_training_data = confusion_matrix(Y_train, prediction_on_training_data)\n",
        "print('Confusion Matrix on Training Data:\\n', cm_training_data)\n",
        "\n",
        "# Classification report on training data\n",
        "cr_training_data = classification_report(Y_train, prediction_on_training_data)\n",
        "print('\\nClassification Report on Training Data:\\n', cr_training_data)\n",
        "\n",
        "# Accuracy on training data\n",
        "acc_training_data = accuracy_score(Y_train, prediction_on_training_data)\n",
        "print('\\nAccuracy on Training Data:', acc_training_data)\n",
        "\n",
        "# Confusion matrix on test data\n",
        "cm_test_data = confusion_matrix(Y_test, prediction_on_test_data)\n",
        "print('\\nConfusion Matrix on Test Data:\\n', cm_test_data)\n",
        "\n",
        "# Classification report on test data\n",
        "cr_test_data = classification_report(Y_test, prediction_on_test_data)\n",
        "print('\\nClassification Report on Test Data:\\n', cr_test_data)\n",
        "\n",
        "# Accuracy on test data\n",
        "acc_test_data = accuracy_score(Y_test, prediction_on_test_data)\n",
        "print('\\nAccuracy on Test Data:', acc_test_data)\n"
      ]
    }
  ],
  "metadata": {
    "colab": {
      "provenance": []
    },
    "kernelspec": {
      "display_name": "Python 3",
      "name": "python3"
    },
    "language_info": {
      "codemirror_mode": {
        "name": "ipython",
        "version": 3
      },
      "file_extension": ".py",
      "mimetype": "text/x-python",
      "name": "python",
      "nbconvert_exporter": "python",
      "pygments_lexer": "ipython3",
      "version": "3.9.12"
    }
  },
  "nbformat": 4,
  "nbformat_minor": 0
}